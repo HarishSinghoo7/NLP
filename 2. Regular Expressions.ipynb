{
 "cells": [
  {
   "cell_type": "markdown",
   "id": "relative-picture",
   "metadata": {},
   "source": [
    "# Regular Expression\n",
    "\n",
    "A Regular Expression (RegEx) is a sequence of characters that defines a search pattern."
   ]
  },
  {
   "cell_type": "markdown",
   "id": "going-composite",
   "metadata": {},
   "source": [
    "### MetaCharacters\n",
    "Metacharacters are characters that are interpreted in a special way by a RegEx engine. Here's a list of metacharacters:\n",
    "\n",
    "**[] . ^ $ * + ? {} () \\ |**"
   ]
  },
  {
   "cell_type": "markdown",
   "id": "apparent-share",
   "metadata": {},
   "source": [
    "**1. [] - Square brackets**\n",
    "\n",
    "Square brackets specifies a set of characters you wish to match."
   ]
  },
  {
   "cell_type": "code",
   "execution_count": 1,
   "id": "numeric-marina",
   "metadata": {},
   "outputs": [],
   "source": [
    "import re"
   ]
  },
  {
   "cell_type": "code",
   "execution_count": 2,
   "id": "indie-combat",
   "metadata": {},
   "outputs": [
    {
     "data": {
      "text/plain": [
       "<re.Match object; span=(0, 1), match='a'>"
      ]
     },
     "execution_count": 2,
     "metadata": {},
     "output_type": "execute_result"
    }
   ],
   "source": [
    "pattern = '[abc]'\n",
    "string = 'abyss'\n",
    "re.search(pattern, string)"
   ]
  },
  {
   "cell_type": "markdown",
   "id": "deluxe-tournament",
   "metadata": {},
   "source": [
    "Here, [abc] will match if the string you are trying to match contains any of the a, b or c.\n",
    "\n",
    "We can also specify a range of characters using - inside square brackets.\n",
    "\n",
    "* [a-e] is the same as [abcde].\n",
    "* [1-4] is the same as [1234].\n",
    "* [0-39] is the same as [01239].\n",
    "\n",
    "We can complement (invert) the character set by using caret ^ symbol at the start of a square-bracket.\n",
    "\n",
    "* [^abc] means any character except a or b or c.\n",
    "* [^0-9] means any non-digit character."
   ]
  },
  {
   "cell_type": "code",
   "execution_count": 12,
   "id": "integrated-belgium",
   "metadata": {},
   "outputs": [
    {
     "name": "stdout",
     "output_type": "stream",
     "text": [
      "<re.Match object; span=(0, 1), match='2'>\n",
      "<re.Match object; span=(11, 12), match='3'>\n",
      "<re.Match object; span=(0, 1), match='S'>\n",
      "<re.Match object; span=(1, 2), match='t'>\n"
     ]
    }
   ],
   "source": [
    "# [a-e] is the same as [abcde].\n",
    "re.search(r'[a-e]','boy')\n",
    "\n",
    "# [1-4] is the same as [1234].\n",
    "print(re.search(r'[0-9]','26 Avenue Street.'))\n",
    "\n",
    "# [0-39] is the same as [01239].\n",
    "print(re.search(r'[0-39]','7th Avenue 3rd Street.'))\n",
    "\n",
    "# [^abc] means any character except a or b or c.\n",
    "print(re.search(r'[^abc]','Street.'))\n",
    "\n",
    "# [^0-9] means any non-digit character.\n",
    "print(re.search(r'[^0-9]','7th Avenue Street.'))"
   ]
  },
  {
   "cell_type": "markdown",
   "id": "brazilian-practitioner",
   "metadata": {},
   "source": [
    "#### 2. . - Period\n",
    "\n",
    "A period matches any single character (except newline '\\n')."
   ]
  },
  {
   "cell_type": "code",
   "execution_count": 11,
   "id": "sunrise-runner",
   "metadata": {},
   "outputs": [
    {
     "name": "stdout",
     "output_type": "stream",
     "text": [
      "<re.Match object; span=(0, 1), match='1'>\n",
      "<re.Match object; span=(0, 1), match='a'>\n",
      "<re.Match object; span=(0, 1), match='a'>\n"
     ]
    }
   ],
   "source": [
    "print(re.search(r'.', '1a'))\n",
    "print(re.search(r'.', 'a'))\n",
    "print(re.search(r'.', 'abc'))"
   ]
  },
  {
   "cell_type": "markdown",
   "id": "express-excuse",
   "metadata": {},
   "source": [
    "#### 3. ^ - Caret\n",
    "\n",
    "The caret symbol ^ is used to check if a string starts with a certain character."
   ]
  },
  {
   "cell_type": "code",
   "execution_count": 13,
   "id": "voluntary-broadcasting",
   "metadata": {},
   "outputs": [
    {
     "name": "stdout",
     "output_type": "stream",
     "text": [
      "<re.Match object; span=(0, 1), match='a'>\n",
      "None\n",
      "<re.Match object; span=(0, 2), match='ab'>\n",
      "None\n"
     ]
    }
   ],
   "source": [
    "print(re.search(r'^a', 'a'))\n",
    "print(re.search(r'^a', 'ball'))\n",
    "print(re.search(r'^ab', 'abcd'))\n",
    "print(re.search(r'^ab', 'apple'))"
   ]
  },
  {
   "cell_type": "markdown",
   "id": "contrary-grave",
   "metadata": {},
   "source": [
    "#### 4. $ - Dollar\n",
    "\n",
    "The dollar symbol $ is used to check if a string ends with a certain character."
   ]
  },
  {
   "cell_type": "code",
   "execution_count": 14,
   "id": "radio-declaration",
   "metadata": {},
   "outputs": [
    {
     "name": "stdout",
     "output_type": "stream",
     "text": [
      "<re.Match object; span=(0, 1), match='a'>\n",
      "None\n",
      "<re.Match object; span=(2, 4), match='cd'>\n",
      "None\n"
     ]
    }
   ],
   "source": [
    "print(re.search(r'a$', 'a'))\n",
    "print(re.search(r'a$', 'ball'))\n",
    "print(re.search(r'cd$', 'abcd'))\n",
    "print(re.search(r'cd$', 'apple'))"
   ]
  },
  {
   "cell_type": "markdown",
   "id": "harmful-reputation",
   "metadata": {},
   "source": [
    "#### 5. * - Star\n",
    "\n",
    "The star symbol * matches zero or more occurrences of the pattern left to it."
   ]
  },
  {
   "cell_type": "code",
   "execution_count": 16,
   "id": "breeding-couple",
   "metadata": {},
   "outputs": [
    {
     "name": "stdout",
     "output_type": "stream",
     "text": [
      "<re.Match object; span=(0, 3), match='man'>\n",
      "<re.Match object; span=(0, 2), match='mn'>\n",
      "<re.Match object; span=(2, 5), match='man'>\n",
      "<re.Match object; span=(0, 5), match='maaan'>\n"
     ]
    }
   ],
   "source": [
    "# Looking for 0 or more a\n",
    "print(re.search(r'ma*n', 'man'))\n",
    "print(re.search(r'ma*n', 'mn'))\n",
    "print(re.search(r'ma*n', 'woman'))\n",
    "print(re.search(r'ma*n', 'maaana'))"
   ]
  },
  {
   "cell_type": "markdown",
   "id": "devoted-project",
   "metadata": {},
   "source": [
    "#### 6. + - Plus\n",
    "\n",
    "The plus symbol + matches one or more occurrences of the pattern left to it."
   ]
  },
  {
   "cell_type": "code",
   "execution_count": 17,
   "id": "criminal-substitute",
   "metadata": {},
   "outputs": [
    {
     "name": "stdout",
     "output_type": "stream",
     "text": [
      "<re.Match object; span=(0, 3), match='man'>\n",
      "None\n",
      "<re.Match object; span=(2, 5), match='man'>\n",
      "<re.Match object; span=(0, 5), match='maaan'>\n"
     ]
    }
   ],
   "source": [
    "# Looking for atleast 1 a\n",
    "print(re.search(r'ma+n', 'man'))\n",
    "print(re.search(r'ma+n', 'mn'))\n",
    "print(re.search(r'ma+n', 'woman'))\n",
    "print(re.search(r'ma+n', 'maaana'))"
   ]
  },
  {
   "cell_type": "markdown",
   "id": "breathing-governor",
   "metadata": {},
   "source": [
    "#### 7. ? - Question Mark\n",
    "\n",
    "The question mark symbol ? matches zero or one occurrence of the pattern left to it."
   ]
  },
  {
   "cell_type": "code",
   "execution_count": 18,
   "id": "unique-campaign",
   "metadata": {},
   "outputs": [
    {
     "name": "stdout",
     "output_type": "stream",
     "text": [
      "<re.Match object; span=(0, 3), match='man'>\n",
      "<re.Match object; span=(0, 2), match='mn'>\n",
      "<re.Match object; span=(2, 5), match='man'>\n",
      "None\n"
     ]
    }
   ],
   "source": [
    "# Looking for min 0 or max 1 a\n",
    "print(re.search(r'ma?n', 'man'))\n",
    "print(re.search(r'ma?n', 'mn'))\n",
    "print(re.search(r'ma?n', 'woman'))\n",
    "print(re.search(r'ma?n', 'maaana'))"
   ]
  },
  {
   "cell_type": "markdown",
   "id": "surgical-madison",
   "metadata": {},
   "source": [
    "#### 8. {} - Braces\n",
    "\n",
    "Consider this code: {n,m}. This means at least n, and at most m repetitions of the pattern left to it."
   ]
  },
  {
   "cell_type": "code",
   "execution_count": 20,
   "id": "turkish-shelf",
   "metadata": {},
   "outputs": [
    {
     "name": "stdout",
     "output_type": "stream",
     "text": [
      "None\n",
      "<re.Match object; span=(5, 7), match='aa'>\n",
      "<re.Match object; span=(0, 2), match='aa'>\n",
      "<re.Match object; span=(0, 2), match='aa'>\n"
     ]
    }
   ],
   "source": [
    "# Looking for min 2 and max 3 a\n",
    "print(re.search(r'a{2,3}', 'abc dat'))\n",
    "print(re.search(r'a{2,3}', 'abc daat'))\n",
    "print(re.search(r'a{2,3}', 'aabc daat'))\n",
    "print(re.search(r'a{2,3}', 'aabc daaaat'))"
   ]
  },
  {
   "cell_type": "markdown",
   "id": "polyphonic-omega",
   "metadata": {},
   "source": [
    "#### 9. | - Alternation\n",
    "\n",
    "Vertical bar | is used for alternation (or operator)."
   ]
  },
  {
   "cell_type": "code",
   "execution_count": 21,
   "id": "constitutional-conservation",
   "metadata": {},
   "outputs": [
    {
     "name": "stdout",
     "output_type": "stream",
     "text": [
      "None\n",
      "<re.Match object; span=(0, 1), match='a'>\n",
      "<re.Match object; span=(0, 1), match='a'>\n"
     ]
    }
   ],
   "source": [
    "# Looking for a or b present in the string\n",
    "print(re.search(r'a|b', 'cde'))\n",
    "print(re.search(r'a|b', 'ade'))\n",
    "print(re.search(r'a|b', 'acdbea'))"
   ]
  },
  {
   "cell_type": "markdown",
   "id": "narrow-livestock",
   "metadata": {},
   "source": [
    "#### 10. () - Group\n",
    "\n",
    "Parentheses () is used to group sub-patterns. For example, (a|b|c)xz match any string that matches either a or b or c followed by xz"
   ]
  },
  {
   "cell_type": "code",
   "execution_count": 27,
   "id": "fundamental-digest",
   "metadata": {},
   "outputs": [
    {
     "name": "stdout",
     "output_type": "stream",
     "text": [
      "None\n",
      "<re.Match object; span=(0, 3), match='axz'>\n",
      "None\n",
      "<re.Match object; span=(3, 6), match='bxz'>\n"
     ]
    }
   ],
   "source": [
    "print(re.search(r'(a|b|c)xz', 'cdexz'))\n",
    "print(re.search(r'(a|b|c)xz', 'axz'))\n",
    "print(re.search(r'(a|b|c)xz', 'acdbea'))\n",
    "print(re.search(r'(a|b|c)xz', 'acdbxzsd'))"
   ]
  },
  {
   "cell_type": "markdown",
   "id": "heavy-beads",
   "metadata": {},
   "source": [
    "#### 11. \\ - Backslash\n",
    "\n",
    "Backlash \\ is used to escape various characters including all metacharacters. For example,\n",
    "\n",
    "\\\\\\\\$a match if a string contains \\\\$ followed by a. Here, \\$ is not interpreted by a RegEx engine in a special way.\n",
    "\n",
    "If you are unsure if a character has special meaning or not, you can put \\ in front of it. This makes sure the character is not treated in a special way."
   ]
  },
  {
   "cell_type": "markdown",
   "id": "pacific-mauritius",
   "metadata": {},
   "source": [
    "**Special Sequences**\n",
    "\n",
    "Special sequences make commonly used patterns easier to write. Here's a list of special sequences:\n",
    "\n",
    "* \\A - Matches if the specified characters are at the start of a string."
   ]
  },
  {
   "cell_type": "code",
   "execution_count": 28,
   "id": "frequent-shopper",
   "metadata": {},
   "outputs": [
    {
     "name": "stdout",
     "output_type": "stream",
     "text": [
      "<re.Match object; span=(0, 3), match='the'>\n",
      "None\n"
     ]
    }
   ],
   "source": [
    "print(re.search(r'\\Athe', 'the sun'))\n",
    "print(re.search(r'\\Athe', 'In the sun'))"
   ]
  },
  {
   "cell_type": "markdown",
   "id": "coated-belfast",
   "metadata": {},
   "source": [
    "* \\b - Matches if the specified characters are at the beginning or end of a word."
   ]
  },
  {
   "cell_type": "code",
   "execution_count": 29,
   "id": "minus-robertson",
   "metadata": {},
   "outputs": [
    {
     "name": "stdout",
     "output_type": "stream",
     "text": [
      "<re.Match object; span=(0, 3), match='foo'>\n",
      "<re.Match object; span=(2, 5), match='foo'>\n",
      "None\n",
      "<re.Match object; span=(4, 7), match='foo'>\n",
      "<re.Match object; span=(5, 8), match='foo'>\n",
      "None\n"
     ]
    }
   ],
   "source": [
    "print(re.search(r'\\bfoo', 'football'))\n",
    "print(re.search(r'\\bfoo', 'a football'))\n",
    "print(re.search(r'\\bfoo', 'afootball'))\n",
    "print(re.search(r'foo\\b', 'the foo'))\n",
    "print(re.search(r'foo\\b', 'the afoo test'))\n",
    "print(re.search(r'foo\\b', 'the afootest'))"
   ]
  },
  {
   "cell_type": "markdown",
   "id": "original-crisis",
   "metadata": {},
   "source": [
    "* \\B - Opposite of \\b. Matches if the specified characters are not at the beginning or end of a word."
   ]
  },
  {
   "cell_type": "code",
   "execution_count": 30,
   "id": "revolutionary-wedding",
   "metadata": {},
   "outputs": [
    {
     "name": "stdout",
     "output_type": "stream",
     "text": [
      "None\n",
      "None\n",
      "<re.Match object; span=(1, 4), match='foo'>\n",
      "None\n",
      "None\n",
      "<re.Match object; span=(5, 8), match='foo'>\n"
     ]
    }
   ],
   "source": [
    "print(re.search(r'\\Bfoo', 'football'))\n",
    "print(re.search(r'\\Bfoo', 'a football'))\n",
    "print(re.search(r'\\Bfoo', 'afootball'))\n",
    "print(re.search(r'foo\\B', 'the foo'))\n",
    "print(re.search(r'foo\\B', 'the afoo test'))\n",
    "print(re.search(r'foo\\B', 'the afootest'))"
   ]
  },
  {
   "cell_type": "markdown",
   "id": "opponent-favor",
   "metadata": {},
   "source": [
    "* \\d - Matches any decimal digit. Equivalent to [0-9]"
   ]
  },
  {
   "cell_type": "code",
   "execution_count": 31,
   "id": "removable-guitar",
   "metadata": {},
   "outputs": [
    {
     "name": "stdout",
     "output_type": "stream",
     "text": [
      "<re.Match object; span=(0, 1), match='1'>\n",
      "None\n"
     ]
    }
   ],
   "source": [
    "print(re.search(r'\\d', '12abc3'))\n",
    "print(re.search(r'\\d', 'afootest'))"
   ]
  },
  {
   "cell_type": "markdown",
   "id": "planned-trade",
   "metadata": {},
   "source": [
    "* \\D - Matches any non-decimal digit. Equivalent to [^0-9]"
   ]
  },
  {
   "cell_type": "code",
   "execution_count": 32,
   "id": "starting-birth",
   "metadata": {},
   "outputs": [
    {
     "name": "stdout",
     "output_type": "stream",
     "text": [
      "<re.Match object; span=(2, 3), match='a'>\n",
      "<re.Match object; span=(0, 1), match='a'>\n"
     ]
    }
   ],
   "source": [
    "print(re.search(r'\\D', '12abc3'))\n",
    "print(re.search(r'\\D', 'afootest'))"
   ]
  },
  {
   "cell_type": "markdown",
   "id": "stuck-preservation",
   "metadata": {},
   "source": [
    "* \\s - Matches where a string contains any whitespace character. Equivalent to [ \\t\\n\\r\\f\\v]."
   ]
  },
  {
   "cell_type": "code",
   "execution_count": 33,
   "id": "negative-sunday",
   "metadata": {},
   "outputs": [
    {
     "name": "stdout",
     "output_type": "stream",
     "text": [
      "<re.Match object; span=(6, 7), match=' '>\n",
      "None\n"
     ]
    }
   ],
   "source": [
    "print(re.search(r'\\s', 'Python RegEx'))\n",
    "print(re.search(r'\\s', 'PythonRegEx'))"
   ]
  },
  {
   "cell_type": "markdown",
   "id": "australian-congo",
   "metadata": {},
   "source": [
    "* \\S - Matches where a string contains any non-whitespace character. Equivalent to [^ \\t\\n\\r\\f\\v]."
   ]
  },
  {
   "cell_type": "code",
   "execution_count": 35,
   "id": "cordless-embassy",
   "metadata": {},
   "outputs": [
    {
     "name": "stdout",
     "output_type": "stream",
     "text": [
      "<re.Match object; span=(0, 1), match='a'>\n",
      "None\n"
     ]
    }
   ],
   "source": [
    "print(re.search(r'\\S', 'a b'))\n",
    "print(re.search(r'\\S', ' '))"
   ]
  },
  {
   "cell_type": "markdown",
   "id": "better-effects",
   "metadata": {},
   "source": [
    "* \\w - Matches any alphanumeric character (digits and alphabets). Equivalent to [a-zA-Z0-9_]. By the way, underscore _ is also considered an alphanumeric character."
   ]
  },
  {
   "cell_type": "code",
   "execution_count": 36,
   "id": "pressing-tissue",
   "metadata": {},
   "outputs": [
    {
     "name": "stdout",
     "output_type": "stream",
     "text": [
      "<re.Match object; span=(0, 1), match='1'>\n",
      "None\n",
      "None\n",
      "<re.Match object; span=(0, 1), match='a'>\n"
     ]
    }
   ],
   "source": [
    "print(re.search(r'\\w', '12&\": ;c'))\n",
    "print(re.search(r'\\w', '%\"> !'))\n",
    "print(re.search(r'\\w', ' '))\n",
    "print(re.search(r'\\w', 'abc123'))"
   ]
  },
  {
   "cell_type": "markdown",
   "id": "identified-bronze",
   "metadata": {},
   "source": [
    "* \\W - Matches any non-alphanumeric character. Equivalent to [^a-zA-Z0-9_]"
   ]
  },
  {
   "cell_type": "code",
   "execution_count": 37,
   "id": "everyday-maple",
   "metadata": {},
   "outputs": [
    {
     "name": "stdout",
     "output_type": "stream",
     "text": [
      "<re.Match object; span=(2, 3), match='&'>\n",
      "<re.Match object; span=(0, 1), match='%'>\n",
      "<re.Match object; span=(0, 1), match=' '>\n",
      "None\n"
     ]
    }
   ],
   "source": [
    "print(re.search(r'\\W', '12&\": ;c'))\n",
    "print(re.search(r'\\W', '%\"> !'))\n",
    "print(re.search(r'\\W', ' '))\n",
    "print(re.search(r'\\W', 'abc123'))"
   ]
  },
  {
   "cell_type": "markdown",
   "id": "apparent-headset",
   "metadata": {},
   "source": [
    "* \\Z - Matches if the specified characters are at the end of a string."
   ]
  },
  {
   "cell_type": "code",
   "execution_count": 38,
   "id": "suitable-organic",
   "metadata": {},
   "outputs": [
    {
     "name": "stdout",
     "output_type": "stream",
     "text": [
      "<re.Match object; span=(7, 13), match='Python'>\n",
      "None\n",
      "None\n"
     ]
    }
   ],
   "source": [
    "print(re.search(r'Python\\Z', 'I like Python'))\n",
    "print(re.search(r'Python\\Z', 'I like Python Programming'))\n",
    "print(re.search(r'Python\\Z', 'Python is fun.'))"
   ]
  },
  {
   "cell_type": "markdown",
   "id": "diverse-middle",
   "metadata": {},
   "source": [
    "**Tip:** To build and test regular expressions, you can use RegEx tester tools such as <a href=\"https://regex101.com/\">regex101</a>. This tool not only helps in creating regular expressions, but it also helps to learn it."
   ]
  },
  {
   "cell_type": "markdown",
   "id": "generic-situation",
   "metadata": {},
   "source": [
    "## Python RegEx\n",
    "\n",
    "Python has a module named re to work with regular expressions. To use it, we need to import the module."
   ]
  },
  {
   "cell_type": "code",
   "execution_count": 39,
   "id": "boxed-answer",
   "metadata": {},
   "outputs": [],
   "source": [
    "import re"
   ]
  },
  {
   "cell_type": "markdown",
   "id": "native-coupon",
   "metadata": {},
   "source": [
    "#### 1. re.findall()\n",
    "The re.findall() method returns a list of strings containing all matches. If the pattern is not found, re.findall() returns an empty list."
   ]
  },
  {
   "cell_type": "code",
   "execution_count": 40,
   "id": "cooked-festival",
   "metadata": {},
   "outputs": [
    {
     "name": "stdout",
     "output_type": "stream",
     "text": [
      "['12', '89', '34']\n"
     ]
    }
   ],
   "source": [
    "string = 'hello 12 hi 89. Howdy 34'\n",
    "pattern = '\\d+'\n",
    "\n",
    "result = re.findall(pattern, string) \n",
    "print(result)"
   ]
  },
  {
   "cell_type": "markdown",
   "id": "liquid-church",
   "metadata": {},
   "source": [
    "#### 2. re.split()\n",
    "The re.split method splits the string where there is a match and returns a list of strings where the splits have occurred. If the pattern is not found, re.split() returns a list containing the original string."
   ]
  },
  {
   "cell_type": "code",
   "execution_count": 41,
   "id": "adjacent-allah",
   "metadata": {},
   "outputs": [
    {
     "name": "stdout",
     "output_type": "stream",
     "text": [
      "['Twelve:', ' Eighty nine:', '.']\n"
     ]
    }
   ],
   "source": [
    "string = 'Twelve:12 Eighty nine:89.'\n",
    "pattern = '\\d+'\n",
    "\n",
    "result = re.split(pattern, string) \n",
    "print(result)"
   ]
  },
  {
   "cell_type": "markdown",
   "id": "standard-scientist",
   "metadata": {},
   "source": [
    "We can pass maxsplit argument to the re.split() method. It's the maximum number of splits that will occur. The default value of maxsplit is 0; meaning all possible splits."
   ]
  },
  {
   "cell_type": "code",
   "execution_count": 42,
   "id": "missing-season",
   "metadata": {},
   "outputs": [
    {
     "name": "stdout",
     "output_type": "stream",
     "text": [
      "['Twelve:', ' Eighty nine:89.']\n"
     ]
    }
   ],
   "source": [
    "string = 'Twelve:12 Eighty nine:89.'\n",
    "pattern = '\\d+'\n",
    "\n",
    "result = re.split(pattern, string, 1) \n",
    "print(result)"
   ]
  },
  {
   "cell_type": "markdown",
   "id": "complimentary-aircraft",
   "metadata": {},
   "source": [
    "#### 3. re.sub()\n",
    "The method returns a string where matched occurrences are replaced with the content of replace variable. If the pattern is not found, re.sub() returns the original string."
   ]
  },
  {
   "cell_type": "code",
   "execution_count": 43,
   "id": "medium-chain",
   "metadata": {},
   "outputs": [
    {
     "name": "stdout",
     "output_type": "stream",
     "text": [
      "abc12de23f456\n"
     ]
    }
   ],
   "source": [
    "# multiline string\n",
    "string = 'abc 12\\\n",
    "de 23 \\n f45 6'\n",
    "\n",
    "# matches all whitespace characters\n",
    "pattern = '\\s+'\n",
    "\n",
    "# empty string\n",
    "replace = ''\n",
    "\n",
    "new_string = re.sub(pattern, replace, string) \n",
    "print(new_string)"
   ]
  },
  {
   "cell_type": "markdown",
   "id": "early-capacity",
   "metadata": {},
   "source": [
    "We can pass count as a fourth parameter to the re.sub() method. If omited, it results to 0. This will replace all occurrences."
   ]
  },
  {
   "cell_type": "code",
   "execution_count": 44,
   "id": "adjustable-violation",
   "metadata": {},
   "outputs": [
    {
     "name": "stdout",
     "output_type": "stream",
     "text": [
      "abc12de 23 \n",
      " f45 6\n"
     ]
    }
   ],
   "source": [
    "# multiline string\n",
    "string = 'abc 12\\\n",
    "de 23 \\n f45 6'\n",
    "\n",
    "# matches all whitespace characters\n",
    "pattern = '\\s+'\n",
    "replace = ''\n",
    "\n",
    "new_string = re.sub(r'\\s+', replace, string, 1) \n",
    "print(new_string)"
   ]
  },
  {
   "cell_type": "markdown",
   "id": "statewide-faculty",
   "metadata": {},
   "source": [
    "#### 4. re.subn()\n",
    "The re.subn() is similar to re.sub() expect it returns a tuple of 2 items containing the new string and the number of substitutions made."
   ]
  },
  {
   "cell_type": "code",
   "execution_count": 45,
   "id": "sixth-uncle",
   "metadata": {},
   "outputs": [
    {
     "name": "stdout",
     "output_type": "stream",
     "text": [
      "('abc12de23f456', 4)\n"
     ]
    }
   ],
   "source": [
    "# multiline string\n",
    "string = 'abc 12\\\n",
    "de 23 \\n f45 6'\n",
    "\n",
    "# matches all whitespace characters\n",
    "pattern = '\\s+'\n",
    "\n",
    "# empty string\n",
    "replace = ''\n",
    "\n",
    "new_string = re.subn(pattern, replace, string) \n",
    "print(new_string)"
   ]
  },
  {
   "cell_type": "markdown",
   "id": "possible-nepal",
   "metadata": {},
   "source": [
    "#### 5. re.search()\n",
    "The re.search() method takes two arguments: a pattern and a string. The method looks for the first location where the RegEx pattern produces a match with the string.\n",
    "\n",
    "If the search is successful, re.search() returns a match object; if not, it returns None."
   ]
  },
  {
   "cell_type": "code",
   "execution_count": 46,
   "id": "virtual-habitat",
   "metadata": {},
   "outputs": [
    {
     "name": "stdout",
     "output_type": "stream",
     "text": [
      "pattern found inside the string\n"
     ]
    }
   ],
   "source": [
    "string = \"Python is fun\"\n",
    "\n",
    "# check if 'Python' is at the beginning\n",
    "match = re.search('\\APython', string)\n",
    "\n",
    "if match:\n",
    "  print(\"pattern found inside the string\")\n",
    "else:\n",
    "  print(\"pattern not found\")  "
   ]
  },
  {
   "cell_type": "markdown",
   "id": "heard-bottle",
   "metadata": {},
   "source": [
    "Here, match contains a match object."
   ]
  },
  {
   "cell_type": "markdown",
   "id": "wireless-blanket",
   "metadata": {},
   "source": [
    "#### 6. re.fullmatch(pattern, string, flags=0)\n",
    "If the whole string matches the regular expression pattern, return a corresponding match object. Return None if the string does not match the pattern; note that this is different from a zero-length match."
   ]
  },
  {
   "cell_type": "code",
   "execution_count": 59,
   "id": "advanced-victory",
   "metadata": {},
   "outputs": [
    {
     "name": "stdout",
     "output_type": "stream",
     "text": [
      "pattern found inside the string\n",
      "pattern not found\n"
     ]
    }
   ],
   "source": [
    "string = \"Python is fun\"\n",
    "string1 = \"Python 3 is fun\"\n",
    "\n",
    "# check if 'nonnumeric' string\n",
    "match = re.fullmatch('\\D+', string)\n",
    "\n",
    "if match:\n",
    "  print(\"pattern found inside the string\")\n",
    "else:\n",
    "  print(\"pattern not found\")  \n",
    "\n",
    "# check if 'nonnumeric' string\n",
    "match1 = re.fullmatch('\\D+', string1)\n",
    "\n",
    "if match1:\n",
    "  print(\"pattern found inside the string\")\n",
    "else:\n",
    "  print(\"pattern not found\")  "
   ]
  },
  {
   "cell_type": "markdown",
   "id": "concrete-stability",
   "metadata": {},
   "source": [
    "#### 7. re.escape(pattern)\n",
    "Escape special characters in pattern. This is useful if you want to match an arbitrary literal string that may have regular expression metacharacters in it."
   ]
  },
  {
   "cell_type": "code",
   "execution_count": 60,
   "id": "narrative-battle",
   "metadata": {},
   "outputs": [
    {
     "name": "stdout",
     "output_type": "stream",
     "text": [
      "http://www\\.python\\.org\n"
     ]
    }
   ],
   "source": [
    "print(re.escape('http://www.python.org'))"
   ]
  },
  {
   "cell_type": "markdown",
   "id": "laden-final",
   "metadata": {},
   "source": [
    "## Match object\n",
    "We can get methods and attributes of a match object using dir() function.\n",
    "\n",
    "Some of the commonly used methods and attributes of match objects are:"
   ]
  },
  {
   "cell_type": "markdown",
   "id": "ecological-conversation",
   "metadata": {},
   "source": [
    "#### 1. match.group()\n",
    "The group() method returns the part of the string where there is a match."
   ]
  },
  {
   "cell_type": "code",
   "execution_count": 47,
   "id": "sorted-fiction",
   "metadata": {},
   "outputs": [
    {
     "name": "stdout",
     "output_type": "stream",
     "text": [
      "801 35\n"
     ]
    }
   ],
   "source": [
    "string = '39801 356, 2102 1111'\n",
    "\n",
    "# Three digit number followed by space followed by two digit number\n",
    "pattern = '(\\d{3}) (\\d{2})'\n",
    "\n",
    "# match variable contains a Match object.\n",
    "match = re.search(pattern, string) \n",
    "\n",
    "if match:\n",
    "  print(match.group())\n",
    "else:\n",
    "  print(\"pattern not found\")"
   ]
  },
  {
   "cell_type": "markdown",
   "id": "speaking-interpretation",
   "metadata": {},
   "source": [
    "Our pattern (\\d{3}) (\\d{2}) has two subgroups (\\d{3}) and (\\d{2}). We can get the part of the string of these parenthesized subgroups. Here's how:"
   ]
  },
  {
   "cell_type": "code",
   "execution_count": 48,
   "id": "suffering-vampire",
   "metadata": {},
   "outputs": [
    {
     "name": "stdout",
     "output_type": "stream",
     "text": [
      "801\n",
      "35\n",
      "('801', '35')\n",
      "('801', '35')\n"
     ]
    }
   ],
   "source": [
    "print(match.group(1))\n",
    "print(match.group(2))\n",
    "print(match.group(1, 2))\n",
    "print(match.groups())"
   ]
  },
  {
   "cell_type": "markdown",
   "id": "international-tunisia",
   "metadata": {},
   "source": [
    "#### 2. match.start()\n",
    "The start() function returns the index of the start of the matched substring."
   ]
  },
  {
   "cell_type": "code",
   "execution_count": 50,
   "id": "enhanced-diameter",
   "metadata": {},
   "outputs": [
    {
     "data": {
      "text/plain": [
       "2"
      ]
     },
     "execution_count": 50,
     "metadata": {},
     "output_type": "execute_result"
    }
   ],
   "source": [
    "match.start()"
   ]
  },
  {
   "cell_type": "markdown",
   "id": "incorporate-exploration",
   "metadata": {},
   "source": [
    "#### 3. match.end()\n",
    "The end() function returns the end index of the matched substring."
   ]
  },
  {
   "cell_type": "code",
   "execution_count": 51,
   "id": "identified-owner",
   "metadata": {},
   "outputs": [
    {
     "data": {
      "text/plain": [
       "8"
      ]
     },
     "execution_count": 51,
     "metadata": {},
     "output_type": "execute_result"
    }
   ],
   "source": [
    "match.end()"
   ]
  },
  {
   "cell_type": "markdown",
   "id": "professional-google",
   "metadata": {},
   "source": [
    "#### 4. match.span()\n",
    "The span() function returns a tuple containing start and end index of the matched part."
   ]
  },
  {
   "cell_type": "code",
   "execution_count": 52,
   "id": "further-luxury",
   "metadata": {},
   "outputs": [
    {
     "data": {
      "text/plain": [
       "(2, 8)"
      ]
     },
     "execution_count": 52,
     "metadata": {},
     "output_type": "execute_result"
    }
   ],
   "source": [
    "match.span()"
   ]
  },
  {
   "cell_type": "markdown",
   "id": "interpreted-satin",
   "metadata": {},
   "source": [
    "#### match.re and match.string\n",
    "The re attribute of a matched object returns a regular expression object. Similarly, string attribute returns the passed string."
   ]
  },
  {
   "cell_type": "code",
   "execution_count": 53,
   "id": "organized-somalia",
   "metadata": {},
   "outputs": [
    {
     "name": "stdout",
     "output_type": "stream",
     "text": [
      "re.compile('(\\\\d{3}) (\\\\d{2})')\n",
      "39801 356, 2102 1111\n"
     ]
    }
   ],
   "source": [
    "print(match.re)\n",
    "print(match.string)"
   ]
  },
  {
   "cell_type": "markdown",
   "id": "major-country",
   "metadata": {},
   "source": [
    "## Using r prefix before RegEx\n",
    "When r or R prefix is used before a regular expression, it means raw string. For example, '\\n' is a new line whereas r'\\n' means two characters: a backslash \\ followed by n.\n",
    "\n",
    "Backlash \\ is used to escape various characters including all metacharacters. However, using r prefix makes \\ treat as a normal character."
   ]
  },
  {
   "cell_type": "code",
   "execution_count": 55,
   "id": "driving-radiation",
   "metadata": {},
   "outputs": [
    {
     "name": "stdout",
     "output_type": "stream",
     "text": [
      "['\\n', '\\r', '\\n']\n"
     ]
    }
   ],
   "source": [
    "string = '\\n and \\r are \\n escape sequences.'\n",
    "\n",
    "result = re.findall(r'[\\n\\r]', string) \n",
    "print(result)"
   ]
  },
  {
   "cell_type": "code",
   "execution_count": null,
   "id": "planned-nomination",
   "metadata": {},
   "outputs": [],
   "source": []
  }
 ],
 "metadata": {
  "kernelspec": {
   "display_name": "Python 3",
   "language": "python",
   "name": "python3"
  },
  "language_info": {
   "codemirror_mode": {
    "name": "ipython",
    "version": 3
   },
   "file_extension": ".py",
   "mimetype": "text/x-python",
   "name": "python",
   "nbconvert_exporter": "python",
   "pygments_lexer": "ipython3",
   "version": "3.9.1"
  }
 },
 "nbformat": 4,
 "nbformat_minor": 5
}
